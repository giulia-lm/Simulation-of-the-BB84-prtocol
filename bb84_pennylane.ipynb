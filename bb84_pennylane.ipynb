{
 "cells": [
  {
   "cell_type": "markdown",
   "id": "fdcb52b8",
   "metadata": {},
   "source": [
    "# BB84 protocol implementation using Pennylane\n",
    "##### by Giulia LM\n",
    "----\n",
    "Quantum Key Distribution (QKD) is one of the most advanced applications of quantum cryptography, allowing secure keys to be generated between two parties over a quantum channel. The first and most famous protocol proposed by Bennett and Brassard in 1984\n",
    " \n",
    "\n",
    "\n",
    "## Protocol outline\n",
    "\n",
    "Suppose Alice, the sender, wants to generate and share an encryption key with Bob, but cannot do so over the classical channel because Eve, an eavesdropper, has access to it.\n",
    "\n",
    "<img src=\"images/channels.png\" alt=\"drawing\" width=\"500\"/> \n",
    "\n",
    "Alice then generates a random set of bits, and for each one, chooses a diagonal or rectangular basis (x, +) with which to prepare the photon. She sends the photons to Bob over the quantum channel. Bob receives them and measures them using a random basis, collapsing each qubit into a state. If Bob chose the same basis as Alice, he will obtain the bit Alice chose. However, if Bob chooses a different basis, the probability of obtaining the prepared bit is 50%. \n",
    "\n",
    "<img src=\"images/basis.png\" alt=\"drawing\" width=\"500\" /> \n",
    "\n",
    "Over the classical channel, Alice and Bob compare the bases they used and only retain the bits where they match, obtaining the final key. If Eve intercepts a qubit, she alters the states by measuring with incorrect bases, revealing her presence.\n",
    "\n",
    "## Implementation with pennylane\n"
   ]
  },
  {
   "cell_type": "code",
   "execution_count": 1,
   "id": "bb3080dd",
   "metadata": {},
   "outputs": [],
   "source": [
    "import pennylane as qml\n",
    "import random"
   ]
  },
  {
   "cell_type": "markdown",
   "id": "1e07d148",
   "metadata": {},
   "source": [
    "The \"default.mixed\" device allows us to introduce noise to the channel:"
   ]
  },
  {
   "cell_type": "code",
   "execution_count": 2,
   "id": "33927763",
   "metadata": {},
   "outputs": [],
   "source": [
    "dev = qml.device(\"default.mixed\", wires=1, shots=1)"
   ]
  },
  {
   "cell_type": "code",
   "execution_count": 3,
   "id": "4c379470",
   "metadata": {},
   "outputs": [],
   "source": [
    "@qml.qnode(dev)\n",
    "def bb84_circuit(alice_bit, aliceBasis, eveBasis, p):\n",
    "    #alice prepares her bits\n",
    "    if alice_bit == 1:\n",
    "        qml.PauliX(wires=0)\n",
    "    if aliceBasis == 'x':\n",
    "        qml.Hadamard(wires=0)\n",
    "\n",
    "    # introducing noise into the channel with probability p\n",
    "    qml.DepolarizingChannel(p ,wires =0)\n",
    "    qml.BitFlip(p ,wires =0)\n",
    "\n",
    "    # eve meassures without reseting\n",
    "    if eveBasis == 'x':\n",
    "        qml.Hadamard(wires=0)\n",
    "\n",
    "    eve_bit = qml.sample(wires=0)\n",
    "\n",
    "    return eve_bit\n"
   ]
  },
  {
   "cell_type": "code",
   "execution_count": 4,
   "id": "87eec81e",
   "metadata": {},
   "outputs": [],
   "source": [
    "\n",
    "@qml.qnode(dev)\n",
    "def bob_circuit(eve_bit, eveBasis, bobBasis, p):\n",
    "   # eve reprepares according to what she measured\n",
    "    if eve_bit == 1:\n",
    "        qml.PauliX(wires=0)\n",
    "    if eveBasis == 'x':\n",
    "        qml.Hadamard(wires=0)\n",
    "\n",
    "    qml.DepolarizingChannel(p ,wires =0)\n",
    "    qml.BitFlip(p ,wires =0)\n",
    "\n",
    "    # bob measures\n",
    "    if bobBasis == 'x':\n",
    "        qml.Hadamard(wires=0)\n",
    "    return qml.sample(wires=0)"
   ]
  },
  {
   "cell_type": "code",
   "execution_count": 5,
   "id": "170d8ee4",
   "metadata": {},
   "outputs": [],
   "source": [
    "def bb84(n, p, p_range=[0.6,0.4], sample=True):\n",
    "    alice_bits = [random.choices([0, 1], weights=p_range)[0] for _ in range(n)]\n",
    "    aliceBasis = [random.choices(['+', 'x'], weights=p_range)[0] for _ in range(n)]\n",
    "    bobBasis = [random.choices(['+', 'x'], weights=p_range)[0] for _ in range(n)]\n",
    "    eveBasis = [random.choices(['+', 'x'], weights=p_range)[0] for _ in range(n)]\n",
    "\n",
    "    bob_bits = []\n",
    "    eve_bits = []\n",
    "\n",
    "    for i in range(n):\n",
    "        eve_bit = int(bb84_circuit(alice_bits[i], aliceBasis[i], eveBasis[i], p))\n",
    "        bob_bit = int(bob_circuit(eve_bit, eveBasis[i], bobBasis[i], p))\n",
    "        eve_bits.append(eve_bit)\n",
    "        bob_bits.append(bob_bit)\n",
    "\n",
    "    bob_sifted = []\n",
    "    alice_sifted = []\n",
    "\n",
    "    for i in range(n):\n",
    "        if aliceBasis[i] == bobBasis[i]:\n",
    "            bob_sifted.append(bob_bits[i])\n",
    "            alice_sifted.append(alice_bits[i])\n",
    "\n",
    "    if sample:\n",
    "        return alice_sifted, bob_sifted, eve_bits\n",
    "    else:\n",
    "        return aliceBasis, alice_bits, bobBasis, bob_bits, eveBasis, eve_bits, alice_sifted"
   ]
  },
  {
   "cell_type": "code",
   "execution_count": 6,
   "id": "0b744936",
   "metadata": {},
   "outputs": [],
   "source": [
    "import pandas as pd"
   ]
  },
  {
   "cell_type": "code",
   "execution_count": 7,
   "id": "c17c1b82",
   "metadata": {},
   "outputs": [
    {
     "name": "stdout",
     "output_type": "stream",
     "text": [
      "                                                                   \n",
      "Alice basis          +  +  x  +  +  +  x  x  +  x  +  +  +  x  x  +\n",
      "Alice sended bits    0  1  0  0  0  0  1  1  1  1  1  0  0  0  0  0\n",
      "Bob measuring basis  x  x  +  +  +  +  +  x  x  x  x  +  x  +  x  +\n",
      "Bob measured bits    0  1  0  0  0  0  1  0  0  0  1  0  0  0  1  0\n",
      "Eve Basis            x  +  +  +  +  x  +  +  +  +  x  +  +  x  +  +\n",
      "Eve measured bits    0  1  0  0  0  0  1  1  1  1  1  0  0  0  1  0\n",
      "Final key: [0, 0, 0, 1, 1, 0, 0, 0]\n"
     ]
    }
   ],
   "source": [
    "n = 16\n",
    "noise_p = 0.01\n",
    "p_range = [0.6,0.4]\n",
    "\n",
    "aliceBasis, alice_bits, bobBasis, bob_bits, eveBasis, eve_bits, alice_sifted = bb84(n, noise_p, p_range, False)\n",
    "\n",
    "data = [aliceBasis, alice_bits, bobBasis, bob_bits, eveBasis, eve_bits]\n",
    "\n",
    "rows = [\n",
    "    \"Alice basis\",\n",
    "    \"Alice sended bits\",\n",
    "    \"Bob measuring basis\",\n",
    "    \"Bob measured bits\",\n",
    "    \"Eve Basis\",\n",
    "    \"Eve measured bits\"\n",
    "]\n",
    "\n",
    "df = pd.DataFrame(data, index=rows)\n",
    "df.columns = [''] * df.shape[1]\n",
    "\n",
    "print(df)\n",
    "print(\"Final key:\",alice_sifted)"
   ]
  },
  {
   "cell_type": "markdown",
   "id": "1cb48a78",
   "metadata": {},
   "source": [
    "### Privacy Amplification \n",
    "is used by alce and bob to distill from the key a smaller set of bits S whose correlation with the bits eve obtained is below a desired threshold"
   ]
  },
  {
   "cell_type": "code",
   "execution_count": 8,
   "id": "622df4cc",
   "metadata": {},
   "outputs": [],
   "source": [
    "import secrets\n",
    "import math"
   ]
  },
  {
   "cell_type": "code",
   "execution_count": 9,
   "id": "d7798935",
   "metadata": {},
   "outputs": [],
   "source": [
    "def gen_random_hasher(max_val=1024):\n",
    "    seed = secrets.randbits(64)\n",
    "    return lambda val: (hash(val) ^ seed) % max_val"
   ]
  },
  {
   "cell_type": "code",
   "execution_count": 10,
   "id": "9984fb67",
   "metadata": {},
   "outputs": [],
   "source": [
    "def privacy_amplification(g, bob_sifted, final_len): \n",
    "    sifted_key = \"\".join(str(b) for b in bob_sifted)\n",
    "    x = int(sifted_key, 2)\n",
    "    return bin(g(x))[2:].zfill(final_len)"
   ]
  },
  {
   "cell_type": "code",
   "execution_count": 11,
   "id": "e6f21750",
   "metadata": {},
   "outputs": [
    {
     "ename": "NameError",
     "evalue": "name 'bob_sifted' is not defined",
     "output_type": "error",
     "traceback": [
      "\u001b[31m---------------------------------------------------------------------------\u001b[39m",
      "\u001b[31mNameError\u001b[39m                                 Traceback (most recent call last)",
      "\u001b[36mCell\u001b[39m\u001b[36m \u001b[39m\u001b[32mIn[11]\u001b[39m\u001b[32m, line 4\u001b[39m\n\u001b[32m      1\u001b[39m final_len = \u001b[32m32\u001b[39m\n\u001b[32m      2\u001b[39m g = gen_random_hasher(\u001b[32m2\u001b[39m**final_len)\n\u001b[32m----> \u001b[39m\u001b[32m4\u001b[39m bob_final_key = privacy_amplification(g, \u001b[43mbob_sifted\u001b[49m, final_len)\n\u001b[32m      5\u001b[39m alice_final_key = privacy_amplification(g, alice_sifted, final_len)\n\u001b[32m      7\u001b[39m \u001b[38;5;28mprint\u001b[39m(\u001b[33m\"\u001b[39m\u001b[33mA final key: \u001b[39m\u001b[33m\"\u001b[39m, alice_final_key)\n",
      "\u001b[31mNameError\u001b[39m: name 'bob_sifted' is not defined"
     ]
    }
   ],
   "source": [
    "final_len = 32\n",
    "g = gen_random_hasher(2**final_len)\n",
    "\n",
    "bob_final_key = privacy_amplification(g, bob_sifted, final_len)\n",
    "alice_final_key = privacy_amplification(g, alice_sifted, final_len)\n",
    "\n",
    "print(\"A final key: \", alice_final_key)\n",
    "print(\"B final key: \", bob_final_key)"
   ]
  },
  {
   "cell_type": "markdown",
   "id": "dfbef1dd",
   "metadata": {},
   "source": [
    "## channel security check"
   ]
  },
  {
   "cell_type": "code",
   "execution_count": null,
   "id": "27cbfdb6",
   "metadata": {},
   "outputs": [],
   "source": [
    "def is_secure(threshold, alice_final_key, bob_final_key):\n",
    "    error = sum(e != k for e,k in zip(alice_final_key, bob_final_key))/len(alice_final_key)\n",
    "    if error < threshold:\n",
    "        return True\n",
    "    else:\n",
    "        return False"
   ]
  },
  {
   "cell_type": "code",
   "execution_count": null,
   "id": "cc823f21",
   "metadata": {},
   "outputs": [
    {
     "data": {
      "text/plain": [
       "True"
      ]
     },
     "execution_count": 23,
     "metadata": {},
     "output_type": "execute_result"
    }
   ],
   "source": [
    "is_secure(0.4, alice_final_key, bob_final_key)"
   ]
  },
  {
   "cell_type": "markdown",
   "id": "1f235dcc",
   "metadata": {},
   "source": [
    "lets compute eve's error"
   ]
  },
  {
   "cell_type": "code",
   "execution_count": null,
   "id": "6ddd6629",
   "metadata": {},
   "outputs": [],
   "source": [
    "def compute_error(eve_bits, final_key):\n",
    "    eve_bits = \"\".join(str(b) for b in eve_bits)\n",
    "    correct_eve_guesses = sum(e == k for e,k in zip(eve_bits, final_key))\n",
    "    error = correct_eve_guesses / len(final_key)\n",
    "\n",
    "    return error"
   ]
  },
  {
   "cell_type": "code",
   "execution_count": null,
   "id": "33a62105",
   "metadata": {},
   "outputs": [
    {
     "name": "stdout",
     "output_type": "stream",
     "text": [
      "Eve’s guessing probability: 0.53125\n"
     ]
    }
   ],
   "source": [
    "eves_error = compute_error(eve_bits, bob_final_key)\n",
    "print(f\"Eve’s guessing probability: {eves_error}\")"
   ]
  },
  {
   "cell_type": "markdown",
   "id": "9844d232",
   "metadata": {},
   "source": [
    "# entropy calculation: H(A), H(B), H(E) "
   ]
  },
  {
   "cell_type": "code",
   "execution_count": null,
   "id": "e0dd5a8f",
   "metadata": {},
   "outputs": [],
   "source": [
    "from collections import Counter\n",
    "from scipy.stats import entropy\n",
    "from math import log\n",
    "import numpy as np\n",
    "from itertools import product"
   ]
  },
  {
   "cell_type": "code",
   "execution_count": null,
   "id": "a2f27bbc",
   "metadata": {},
   "outputs": [],
   "source": [
    "def shannon_entropy(bits):\n",
    "    entropy = 0\n",
    "    reps = Counter(bits)\n",
    "    for elemento in reps:\n",
    "        p = reps[elemento] / len(bits)\n",
    "        entropy -= p * math.log2(p)\n",
    "    \n",
    "    return entropy"
   ]
  },
  {
   "cell_type": "markdown",
   "id": "b5983484",
   "metadata": {},
   "source": [
    "## Conditional Entropy"
   ]
  },
  {
   "cell_type": "markdown",
   "id": "2e7b560a",
   "metadata": {},
   "source": [
    "- H(A|B) measures how uncertain we are about a variable A given that we already know B\n",
    "\n",
    "![](mrkdwn/condH.png \"a title\")"
   ]
  },
  {
   "cell_type": "code",
   "execution_count": null,
   "id": "0b9f48d2",
   "metadata": {},
   "outputs": [],
   "source": [
    "\n",
    "def conditional_entropy(X,Y):\n",
    "    conjuntion = zip(X,Y)\n",
    "    conjuntion_counter = Counter(conjuntion)\n",
    "    freq_total_conjuntion = np.sum(list(conjuntion_counter.values()))\n",
    "\n",
    "    Y_count = Counter(Y)\n",
    "    freq_total_Y = np.sum(list(Y_count.values()))\n",
    "\n",
    "    h = 0\n",
    "    for x,y in product(np.unique(X),np.unique(Y)):\n",
    "        if conjuntion_counter[(x,y)] != 0:\n",
    "            h += (conjuntion_counter[(x,y)]/freq_total_conjuntion)*np.log2((Y_count[y]/freq_total_Y)/(conjuntion_counter[(x,y)]/freq_total_conjuntion))\n",
    "\n",
    "    return h\n"
   ]
  },
  {
   "cell_type": "markdown",
   "id": "7fbfbc7d",
   "metadata": {},
   "source": [
    "## información mutua"
   ]
  },
  {
   "cell_type": "markdown",
   "id": "4fcfb2ee",
   "metadata": {},
   "source": [
    "quantifies how much information two variables share.\n",
    "how much does knowing B reduce uncertainty about A, and vice versa"
   ]
  },
  {
   "cell_type": "code",
   "execution_count": null,
   "id": "d518ed7f",
   "metadata": {},
   "outputs": [],
   "source": [
    "def mutual_inf(X, Y):\n",
    "    return shannon_entropy(X) - conditional_entropy(X, Y) "
   ]
  },
  {
   "cell_type": "code",
   "execution_count": null,
   "id": "51a25422",
   "metadata": {},
   "outputs": [],
   "source": [
    "h_A = shannon_entropy(alice_sifted)\n",
    "h_B = shannon_entropy(bob_sifted)\n",
    "h_E = shannon_entropy(eve_bits)\n",
    "\n",
    "hA_E = conditional_entropy(alice_sifted, eve_bits)\n",
    "hB_E = conditional_entropy(bob_sifted, eve_bits)\n",
    "\n",
    "I_AE = mutual_inf(alice_sifted, eve_bits)\n",
    "I_BE = mutual_inf(bob_sifted, eve_bits)"
   ]
  },
  {
   "cell_type": "code",
   "execution_count": null,
   "id": "3d796a14",
   "metadata": {},
   "outputs": [
    {
     "data": {
      "text/html": [
       "<div>\n",
       "<style scoped>\n",
       "    .dataframe tbody tr th:only-of-type {\n",
       "        vertical-align: middle;\n",
       "    }\n",
       "\n",
       "    .dataframe tbody tr th {\n",
       "        vertical-align: top;\n",
       "    }\n",
       "\n",
       "    .dataframe thead th {\n",
       "        text-align: right;\n",
       "    }\n",
       "</style>\n",
       "<table border=\"1\" class=\"dataframe\">\n",
       "  <thead>\n",
       "    <tr style=\"text-align: right;\">\n",
       "      <th></th>\n",
       "      <th></th>\n",
       "    </tr>\n",
       "  </thead>\n",
       "  <tbody>\n",
       "    <tr>\n",
       "      <th>H(E)</th>\n",
       "      <td>0.954434</td>\n",
       "    </tr>\n",
       "    <tr>\n",
       "      <th>H(A|E)</th>\n",
       "      <td>0.927450</td>\n",
       "    </tr>\n",
       "    <tr>\n",
       "      <th>H(B|E)</th>\n",
       "      <td>0.895688</td>\n",
       "    </tr>\n",
       "    <tr>\n",
       "      <th>I(A;E)</th>\n",
       "      <td>0.055926</td>\n",
       "    </tr>\n",
       "    <tr>\n",
       "      <th>I(B;E)</th>\n",
       "      <td>0.071606</td>\n",
       "    </tr>\n",
       "  </tbody>\n",
       "</table>\n",
       "</div>"
      ],
      "text/plain": [
       "                \n",
       "H(E)    0.954434\n",
       "H(A|E)  0.927450\n",
       "H(B|E)  0.895688\n",
       "I(A;E)  0.055926\n",
       "I(B;E)  0.071606"
      ]
     },
     "execution_count": 31,
     "metadata": {},
     "output_type": "execute_result"
    }
   ],
   "source": [
    "entropy = [h_E, hA_E, hB_E,I_AE, I_BE]\n",
    "nombres_filas = [\n",
    "    \"H(E)\",\n",
    "    \"H(A|E)\",\n",
    "    \"H(B|E)\",\n",
    "    \"I(A;E)\",\n",
    "    \"I(B;E)\"\n",
    "]\n",
    "df = pd.DataFrame(entropy, index=nombres_filas)\n",
    "df.columns = [''] * df.shape[1]\n",
    "df"
   ]
  },
  {
   "cell_type": "markdown",
   "id": "d440a8f7",
   "metadata": {},
   "source": [
    "# pruebas y gráficos"
   ]
  },
  {
   "cell_type": "code",
   "execution_count": null,
   "id": "4dda6b20",
   "metadata": {},
   "outputs": [],
   "source": [
    "import matplotlib.pyplot as plt"
   ]
  },
  {
   "cell_type": "code",
   "execution_count": null,
   "id": "057b374d",
   "metadata": {},
   "outputs": [],
   "source": [
    "eves_guessing_p = []\n",
    "condH_BobEve = []\n",
    "condH_AlEve = []\n",
    "MI_AlEve = []\n",
    "MI_BobEve = []\n",
    "\n",
    "\n",
    "m = 500\n",
    "n = 64\n",
    "noise_p = 0.3\n",
    "final_len = 32\n",
    "p_range=[0.6,0.4]\n",
    "\n",
    "channel_sec = 0.4\n",
    "\n",
    "for i in range(m):\n",
    "    alice_sifted, bob_sifted, eve_bits = bb84(n, noise_p, p_range)\n",
    "    \"\"\" \n",
    "    g = gen_random_hasher(2**final_len)\n",
    "    bob_final_key = privacy_amplification(g, bob_sifted, final_len)\n",
    "    alice_final_key = privacy_amplification(g, alice_sifted, final_len)\n",
    "    \"\"\"\n",
    "    #if not is_secure(channel_sec, alice_final_key, bob_final_key):\n",
    "    if not is_secure(channel_sec, alice_sifted, bob_sifted):\n",
    "        pass\n",
    "    \n",
    "    eves_guessing_p.append(compute_error(eve_bits, bob_sifted))\n",
    "\n",
    "    condH_AlEve.append(conditional_entropy(alice_sifted, eve_bits))\n",
    "    condH_BobEve.append(conditional_entropy(bob_sifted, eve_bits))\n",
    "\n",
    "    MI_AlEve.append(mutual_inf(alice_sifted, eve_bits))\n",
    "    MI_BobEve.append(mutual_inf(bob_sifted, eve_bits))"
   ]
  },
  {
   "cell_type": "code",
   "execution_count": null,
   "id": "4734a15e",
   "metadata": {},
   "outputs": [
    {
     "name": "stdout",
     "output_type": "stream",
     "text": [
      "Media de las coincidencias de Eve:  0.0\n"
     ]
    }
   ],
   "source": [
    "print(\"Media de las coincidencias de Eve: \", np.mean(eves_guessing_p))"
   ]
  },
  {
   "cell_type": "code",
   "execution_count": null,
   "id": "01c45737",
   "metadata": {},
   "outputs": [
    {
     "data": {
      "text/plain": [
       "'plt.hist(eves_guessing_p, color=\\'mediumseagreen\\')\\nplt.title(\"Probabilidad de que Eve adivine\")\\nplt.xlabel(\"p\")\\nplt.ylabel(\"frec\")\\n\\nplt.show()'"
      ]
     },
     "execution_count": 35,
     "metadata": {},
     "output_type": "execute_result"
    }
   ],
   "source": [
    "\"\"\"plt.hist(eves_guessing_p, color='mediumseagreen')\n",
    "plt.title(\"Probabilidad de que Eve adivine\")\n",
    "plt.xlabel(\"p\")\n",
    "plt.ylabel(\"frec\")\n",
    " \n",
    "plt.show()\"\"\""
   ]
  },
  {
   "cell_type": "code",
   "execution_count": null,
   "id": "23a8ad5f",
   "metadata": {},
   "outputs": [
    {
     "data": {
      "image/png": "[encoded data removed]",
      "text/plain": [
       "<Figure size 1800x200 with 4 Axes>"
      ]
     },
     "metadata": {},
     "output_type": "display_data"
    }
   ],
   "source": [
    "fig, axs = plt.subplots(1, 4, figsize=(18, 2))\n",
    "\n",
    "axs[0].hist(condH_BobEve, color='lightgreen')\n",
    "axs[0].set_title(\"H(A|E)\")\n",
    "#axs[0].text()\n",
    "axs[0].set_xlabel('entropía')\n",
    "\n",
    "axs[1].hist(condH_AlEve, color='mediumseagreen')\n",
    "axs[1].set_title(\"H(B|E)\")\n",
    "axs[1].set_xlabel('entropía')\n",
    "axs[2].hist(MI_AlEve, color='seagreen')\n",
    "axs[2].set_title(\"I(A;E)\")\n",
    "axs[2].set_xlabel('información mutua')\n",
    "axs[3].hist(MI_BobEve, color='darkseagreen')\n",
    "axs[3].set_title(\"I(B;E)\")\n",
    "axs[3].set_xlabel('información mutua')\n",
    "\n",
    "for ax in axs.flat:\n",
    "    ax.set(ylabel='frec')"
   ]
  },
  {
   "cell_type": "code",
   "execution_count": null,
   "id": "bef0098b",
   "metadata": {},
   "outputs": [
    {
     "ename": "SyntaxError",
     "evalue": "invalid syntax (2902908757.py, line 1)",
     "output_type": "error",
     "traceback": [
      "  \u001b[36mCell\u001b[39m\u001b[36m \u001b[39m\u001b[32mIn[37]\u001b[39m\u001b[32m, line 1\u001b[39m\n\u001b[31m    \u001b[39m\u001b[31magregar chequeo de seguridad con subset S de intercambio y cortar comunicación\u001b[39m\n            ^\n\u001b[31mSyntaxError\u001b[39m\u001b[31m:\u001b[39m invalid syntax\n"
     ]
    }
   ],
   "source": [
    "agregar chequeo de seguridad con subset S de intercambio y cortar comunicación\n",
    "revisar los efectos del ruido en la clave final\n",
    "probar distitos tipos/maneras d aplicar ruido al canal "
   ]
  },
  {
   "cell_type": "code",
   "execution_count": null,
   "id": "4ef2416d",
   "metadata": {},
   "outputs": [],
   "source": []
  }
 ],
 "metadata": {
  "kernelspec": {
   "display_name": "quantic-env",
   "language": "python",
   "name": "env"
  },
  "language_info": {
   "codemirror_mode": {
    "name": "ipython",
    "version": 3
   },
   "file_extension": ".py",
   "mimetype": "text/x-python",
   "name": "python",
   "nbconvert_exporter": "python",
   "pygments_lexer": "ipython3",
   "version": "3.12.3"
  }
 },
 "nbformat": 4,
 "nbformat_minor": 5
}
