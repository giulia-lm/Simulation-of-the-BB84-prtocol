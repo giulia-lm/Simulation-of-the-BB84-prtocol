{
 "cells": [
  {
   "cell_type": "markdown",
   "id": "fdcb52b8",
   "metadata": {},
   "source": [
    "# BB84 protocol implementation using Pennylane\n",
    "<sub>by Giulia LM</sub> \n",
    "\n",
    "\n",
    "Quantum Key Distribution (QKD) is one of the most advanced applications of quantum cryptography, allowing secure keys to be generated between two parties over a quantum channel. The first and most famous protocol proposed by Bennett and Brassard in 1984\n",
    " \n",
    "\n",
    "\n",
    "## Protocol outline\n",
    "\n",
    "Suppose Alice, the sender, wants to generate and share an encryption key with Bob, but cannot do so over the classical channel because Eve, an eavesdropper, has access to it.\n",
    "\n",
    "<div align=\"center\">\n",
    "  <img src=\"images/channels.png\" alt=\"drawing\" width=\"500\"/> \n",
    "    <p> Diagram of BB84. Alice and Bob communicate using a quantum channel and a classical channel, with Eve interfering in both.<p/>\n",
    "</div>\n",
    "\n",
    "Alice then generates a random set of bits, and for each one, chooses a diagonal or rectangular basis (x, +) with which to prepare the photon. She sends the photons to Bob over the quantum channel. Bob receives them and measures them using a random basis, collapsing each qubit into a state. If Bob chose the same basis as Alice, he will obtain the bit Alice chose. However, if Bob chooses a different basis, the probability of obtaining the prepared bit is 50%. \n",
    "\n",
    "<div align=\"center\">\n",
    "  <img src=\"images/basis.png\" alt=\"drawing\" width=\"500\" /> \n",
    "    <p> Representation of Bob's probability of getting the bit sent by Alice in the case where they use the same and different bases.<p/>\n",
    "</div>\n",
    "\n",
    "Over the classical channel, Alice and Bob compare the bases they used and only retain the bits where they match, obtaining the final key. If Eve intercepts a qubit, she alters the states by measuring with incorrect bases, revealing her presence.\n",
    "\n",
    "## Implementation with pennylane\n"
   ]
  },
  {
   "cell_type": "code",
   "execution_count": 229,
   "id": "bb3080dd",
   "metadata": {},
   "outputs": [],
   "source": [
    "import pennylane as qml\n",
    "import random"
   ]
  },
  {
   "cell_type": "markdown",
   "id": "1e07d148",
   "metadata": {},
   "source": [
    "The \"default.mixed\" device allows us to introduce noise to the channel:"
   ]
  },
  {
   "cell_type": "code",
   "execution_count": 230,
   "id": "33927763",
   "metadata": {},
   "outputs": [],
   "source": [
    "dev = qml.device(\"default.mixed\", wires=1, shots=1)"
   ]
  },
  {
   "cell_type": "markdown",
   "id": "714c0b1f",
   "metadata": {},
   "source": [
    "The protocol was split into two circuits—one for the Alice-Eve part and one for Bob—because in quantum computing, once a qubit is measured, its state collapses, preventing further measurements on the same qubit without altering the outcome."
   ]
  },
  {
   "cell_type": "code",
   "execution_count": 231,
   "id": "4c379470",
   "metadata": {},
   "outputs": [],
   "source": [
    "@qml.qnode(dev)\n",
    "def alice_eve_circuit(alice_bit, aliceBasis, eveBasis, p):\n",
    "    #alice prepares her bits\n",
    "    if alice_bit == 1:\n",
    "        qml.PauliX(wires=0)\n",
    "    if aliceBasis == 'x':\n",
    "        qml.Hadamard(wires=0)\n",
    "\n",
    "    # introducing noise into the channel with probability p\n",
    "    qml.DepolarizingChannel(p ,wires =0)\n",
    "    qml.BitFlip(p ,wires =0)\n",
    "\n",
    "    # eve meassures \n",
    "    if eveBasis == 'x':\n",
    "        qml.Hadamard(wires=0)\n",
    "\n",
    "    eve_bit = qml.sample(wires=0)\n",
    "\n",
    "    return eve_bit"
   ]
  },
  {
   "cell_type": "code",
   "execution_count": 232,
   "id": "87eec81e",
   "metadata": {},
   "outputs": [],
   "source": [
    "@qml.qnode(dev)\n",
    "def eve_bob_circuit(eve_bit, eveBasis, bobBasis, p):\n",
    "   # eve reprepares according to what she measured\n",
    "    if eve_bit == 1:\n",
    "        qml.PauliX(wires=0)\n",
    "    if eveBasis == 'x':\n",
    "        qml.Hadamard(wires=0)\n",
    "\n",
    "    qml.DepolarizingChannel(p ,wires =0)\n",
    "    qml.BitFlip(p ,wires =0)\n",
    "\n",
    "    # bob measures\n",
    "    if bobBasis == 'x':\n",
    "        qml.Hadamard(wires=0)\n",
    "    return qml.sample(wires=0)"
   ]
  },
  {
   "cell_type": "code",
   "execution_count": 233,
   "id": "170d8ee4",
   "metadata": {},
   "outputs": [],
   "source": [
    "def bb84(n, p, p_range=[0.6,0.4], sample=True):\n",
    "    bob_bits = []\n",
    "    eve_bits = []\n",
    "    bob_sifted = []\n",
    "    alice_sifted = []\n",
    "    \n",
    "    alice_bits = [random.choices([0, 1], weights=p_range)[0] for _ in range(n)]\n",
    "    aliceBasis = [random.choices(['+', 'x'], weights=p_range)[0] for _ in range(n)]\n",
    "    bobBasis = [random.choices(['+', 'x'], weights=p_range)[0] for _ in range(n)]\n",
    "    eveBasis = [random.choices(['+', 'x'], weights=p_range)[0] for _ in range(n)]\n",
    "\n",
    "    for i in range(n):\n",
    "        eve_bit = int(alice_eve_circuit(alice_bits[i], aliceBasis[i], eveBasis[i], p))\n",
    "        bob_bit = int(eve_bob_circuit(eve_bit, eveBasis[i], bobBasis[i], p))\n",
    "        eve_bits.append(eve_bit)\n",
    "        bob_bits.append(bob_bit)\n",
    "\n",
    "    for i in range(n):\n",
    "        if aliceBasis[i] == bobBasis[i]:\n",
    "            bob_sifted.append(bob_bits[i])\n",
    "            alice_sifted.append(alice_bits[i])\n",
    "\n",
    "    # option for visualizing or just sampling\n",
    "    if sample:\n",
    "        return alice_sifted, bob_sifted, eve_bits\n",
    "    else:\n",
    "        return aliceBasis, alice_bits, bobBasis, bob_bits, eveBasis, eve_bits, alice_sifted, bob_sifted"
   ]
  },
  {
   "cell_type": "markdown",
   "id": "6526fb00",
   "metadata": {},
   "source": [
    "### Testing the protocol"
   ]
  },
  {
   "cell_type": "code",
   "execution_count": 234,
   "id": "0b744936",
   "metadata": {},
   "outputs": [],
   "source": [
    "import pandas as pd"
   ]
  },
  {
   "cell_type": "code",
   "execution_count": 235,
   "id": "c17c1b82",
   "metadata": {},
   "outputs": [
    {
     "name": "stdout",
     "output_type": "stream",
     "text": [
      "                                                                   \n",
      "Alice basis          x  x  x  +  x  +  x  +  x  +  +  +  x  +  +  +\n",
      "Alice sended bits    0  0  0  0  0  1  0  0  0  0  1  0  0  0  0  0\n",
      "Bob measuring basis  +  +  x  +  +  x  x  x  +  x  +  x  +  +  +  +\n",
      "Bob measured bits    0  0  0  0  1  1  1  0  0  1  1  0  1  0  0  0\n",
      "Eve Basis            +  x  x  x  x  x  +  +  +  +  +  +  +  x  +  x\n",
      "Eve measured bits    0  0  0  1  0  1  1  0  0  0  1  0  1  1  0  0\n",
      "\n",
      "Alices's key: [0, 0, 0, 1, 0, 0, 0]\n",
      "Bob's key:    [0, 0, 1, 1, 0, 0, 0]\n"
     ]
    }
   ],
   "source": [
    "n = 16\n",
    "noise_p = 0.01\n",
    "p_range = [0.6,0.4]\n",
    "\n",
    "aliceBasis, alice_bits, bobBasis, bob_bits, eveBasis, eve_bits, alice_sifted, bob_sifted = bb84(n, noise_p, p_range, False)\n",
    "\n",
    "data = [aliceBasis, alice_bits, bobBasis, bob_bits, eveBasis, eve_bits]\n",
    "\n",
    "rows = [\n",
    "    \"Alice basis\",\n",
    "    \"Alice sended bits\",\n",
    "    \"Bob measuring basis\",\n",
    "    \"Bob measured bits\",\n",
    "    \"Eve Basis\",\n",
    "    \"Eve measured bits\"\n",
    "]\n",
    "\n",
    "df = pd.DataFrame(data, index=rows)\n",
    "df.columns = [''] * df.shape[1]\n",
    "\n",
    "print(df)\n",
    "print(\"\\nAlices's key:\",alice_sifted)\n",
    "print(\"Bob's key:   \",bob_sifted)"
   ]
  },
  {
   "cell_type": "markdown",
   "id": "c54b12c2",
   "metadata": {},
   "source": [
    "In this example, Alice and Bob only keep the results where they used the same basis. The only cases where their bits differ are: (1) when Eve uses a different basis and alters the qubit, causing Bob to measure a random bit, and (2) when the result changes due to introduced noise.\n",
    "\n",
    "---"
   ]
  },
  {
   "cell_type": "markdown",
   "id": "dfbef1dd",
   "metadata": {},
   "source": [
    "**Channel security check**\n",
    "\n",
    "An additional step just to check the error between Alice's and Bob's final key after the privacy amplification step, if the error rate exceeds a predefined threshold, the communication is terminated to ensure security."
   ]
  },
  {
   "cell_type": "code",
   "execution_count": 236,
   "id": "27cbfdb6",
   "metadata": {},
   "outputs": [],
   "source": [
    "def is_secure(threshold, alice_final_key, bob_final_key):\n",
    "    error = sum(e != k for e,k in zip(alice_final_key, bob_final_key))/len(alice_final_key)\n",
    "    if error < threshold:\n",
    "        return True\n",
    "    else:\n",
    "        return False"
   ]
  },
  {
   "cell_type": "code",
   "execution_count": 237,
   "id": "cc823f21",
   "metadata": {},
   "outputs": [
    {
     "data": {
      "text/plain": [
       "True"
      ]
     },
     "execution_count": 237,
     "metadata": {},
     "output_type": "execute_result"
    }
   ],
   "source": [
    "is_secure(0.4, alice_final_key, bob_final_key)"
   ]
  },
  {
   "cell_type": "markdown",
   "id": "1f235dcc",
   "metadata": {},
   "source": [
    "## Applying different methods to evaluate the security of the protocol\n",
    "### Eve's guessing probability"
   ]
  },
  {
   "cell_type": "code",
   "execution_count": 238,
   "id": "6ddd6629",
   "metadata": {},
   "outputs": [],
   "source": [
    "def guessing_p(eve_bits, final_key):\n",
    "    eve_bits = \"\".join(str(b) for b in eve_bits)\n",
    "    correct_eve_guesses = sum(e == k for e,k in zip(eve_bits, final_key))\n",
    "    guess_p = correct_eve_guesses / len(final_key)\n",
    "\n",
    "    return guess_p"
   ]
  },
  {
   "cell_type": "code",
   "execution_count": 239,
   "id": "54f3d07d",
   "metadata": {},
   "outputs": [
    {
     "data": {
      "text/plain": [
       "0.375"
      ]
     },
     "execution_count": 239,
     "metadata": {},
     "output_type": "execute_result"
    }
   ],
   "source": [
    "final_len = 8\n",
    "g_eve = gen_random_hasher(2**final_len)\n",
    "eve_final_key = privacy_amplification(g_eve, eve_bits, final_len)\n",
    "guessing_p(eve_final_key, alice_final_key)"
   ]
  },
  {
   "cell_type": "markdown",
   "id": "9844d232",
   "metadata": {},
   "source": [
    "### Entropy calculation: H(A), H(B), H(E) "
   ]
  },
  {
   "cell_type": "code",
   "execution_count": 240,
   "id": "e0dd5a8f",
   "metadata": {},
   "outputs": [],
   "source": [
    "from collections import Counter\n",
    "from scipy.stats import entropy\n",
    "from math import log\n",
    "import numpy as np\n",
    "from itertools import product"
   ]
  },
  {
   "cell_type": "code",
   "execution_count": 241,
   "id": "a2f27bbc",
   "metadata": {},
   "outputs": [],
   "source": [
    "def shannon_entropy(bits):\n",
    "    entropy = 0\n",
    "    reps = Counter(bits)\n",
    "    for element in reps:\n",
    "        p = reps[element] / len(bits)\n",
    "        entropy -= p * math.log2(p)\n",
    "    \n",
    "    return entropy"
   ]
  },
  {
   "cell_type": "markdown",
   "id": "b5983484",
   "metadata": {},
   "source": [
    "Conditional Entropy\n",
    "<div align=\"center\">\n",
    "  <img src=\"images/condH.png\" alt=\"drawing\" width=\"300\"/> \n",
    "</div>\n",
    "H(A|B) measures how uncertain we are about a variable A given that we already know B"
   ]
  },
  {
   "cell_type": "code",
   "execution_count": 242,
   "id": "0b9f48d2",
   "metadata": {},
   "outputs": [],
   "source": [
    "def conditional_entropy(X,Y):\n",
    "    conjuntion = zip(X,Y)\n",
    "    conjuntion_counter = Counter(conjuntion)\n",
    "    freq_total_conjuntion = np.sum(list(conjuntion_counter.values()))\n",
    "\n",
    "    Y_count = Counter(Y)\n",
    "    freq_total_Y = np.sum(list(Y_count.values()))\n",
    "\n",
    "    h = 0\n",
    "    for x,y in product(np.unique(X),np.unique(Y)):\n",
    "        if conjuntion_counter[(x,y)] != 0:\n",
    "            h += (conjuntion_counter[(x,y)]/freq_total_conjuntion)*np.log2((Y_count[y]/freq_total_Y)/(conjuntion_counter[(x,y)]/freq_total_conjuntion))\n",
    "\n",
    "    return h\n"
   ]
  },
  {
   "cell_type": "markdown",
   "id": "7fbfbc7d",
   "metadata": {},
   "source": [
    "### Mutual information\n",
    "Quantifies how much information two variables share, I(A;B) measures how much does knowing B reduce uncertainty about A, and vice versa."
   ]
  },
  {
   "cell_type": "code",
   "execution_count": 243,
   "id": "d518ed7f",
   "metadata": {},
   "outputs": [],
   "source": [
    "def mutual_inf(X, Y):\n",
    "    return shannon_entropy(X) - conditional_entropy(X, Y) "
   ]
  },
  {
   "cell_type": "markdown",
   "id": "cf8b4f8f",
   "metadata": {},
   "source": [
    "Testing the metrics:"
   ]
  },
  {
   "cell_type": "code",
   "execution_count": 244,
   "id": "51a25422",
   "metadata": {},
   "outputs": [
    {
     "data": {
      "text/html": [
       "<div>\n",
       "<style scoped>\n",
       "    .dataframe tbody tr th:only-of-type {\n",
       "        vertical-align: middle;\n",
       "    }\n",
       "\n",
       "    .dataframe tbody tr th {\n",
       "        vertical-align: top;\n",
       "    }\n",
       "\n",
       "    .dataframe thead th {\n",
       "        text-align: right;\n",
       "    }\n",
       "</style>\n",
       "<table border=\"1\" class=\"dataframe\">\n",
       "  <thead>\n",
       "    <tr style=\"text-align: right;\">\n",
       "      <th></th>\n",
       "      <th></th>\n",
       "    </tr>\n",
       "  </thead>\n",
       "  <tbody>\n",
       "    <tr>\n",
       "      <th>Eve's guessing p</th>\n",
       "      <td>0.312500</td>\n",
       "    </tr>\n",
       "    <tr>\n",
       "      <th>H(E)</th>\n",
       "      <td>0.954434</td>\n",
       "    </tr>\n",
       "    <tr>\n",
       "      <th>H(A|E)</th>\n",
       "      <td>0.384869</td>\n",
       "    </tr>\n",
       "    <tr>\n",
       "      <th>H(B|E)</th>\n",
       "      <td>0.848457</td>\n",
       "    </tr>\n",
       "    <tr>\n",
       "      <th>I(A;E)</th>\n",
       "      <td>0.206804</td>\n",
       "    </tr>\n",
       "    <tr>\n",
       "      <th>I(B;E)</th>\n",
       "      <td>0.014664</td>\n",
       "    </tr>\n",
       "  </tbody>\n",
       "</table>\n",
       "</div>"
      ],
      "text/plain": [
       "                          \n",
       "Eve's guessing p  0.312500\n",
       "H(E)              0.954434\n",
       "H(A|E)            0.384869\n",
       "H(B|E)            0.848457\n",
       "I(A;E)            0.206804\n",
       "I(B;E)            0.014664"
      ]
     },
     "execution_count": 244,
     "metadata": {},
     "output_type": "execute_result"
    }
   ],
   "source": [
    "eves_guess_p = guessing_p(eve_bits, bob_final_key)\n",
    "\n",
    "h_A = shannon_entropy(alice_sifted)\n",
    "h_B = shannon_entropy(bob_sifted)\n",
    "h_E = shannon_entropy(eve_bits)\n",
    "\n",
    "hA_E = conditional_entropy(alice_sifted, eve_bits)\n",
    "hB_E = conditional_entropy(bob_sifted, eve_bits)\n",
    "\n",
    "I_AE = mutual_inf(alice_sifted, eve_bits)\n",
    "I_BE = mutual_inf(bob_sifted, eve_bits)\n",
    "\n",
    "eveluation = [eves_guess_p, h_E, hA_E, hB_E,I_AE, I_BE]\n",
    "rows = [\n",
    "    \"Eve's guessing p\",\n",
    "    \"H(E)\",\n",
    "    \"H(A|E)\",\n",
    "    \"H(B|E)\",\n",
    "    \"I(A;E)\",\n",
    "    \"I(B;E)\"\n",
    "]\n",
    "df = pd.DataFrame(eveluation, index=rows)\n",
    "df.columns = [''] * df.shape[1]\n",
    "df"
   ]
  },
  {
   "cell_type": "markdown",
   "id": "d440a8f7",
   "metadata": {},
   "source": [
    "## Results"
   ]
  },
  {
   "cell_type": "code",
   "execution_count": 245,
   "id": "057b374d",
   "metadata": {},
   "outputs": [],
   "source": [
    "eves_guessing_p = []\n",
    "condH_BobEve = []\n",
    "condH_AlEve = []\n",
    "MI_AlEve = []\n",
    "MI_BobEve = []\n",
    "\n",
    "\n",
    "m = 500\n",
    "n = 64\n",
    "noise_p = 0.01\n",
    "final_len = 32\n",
    "p_range=[0.6,0.4]\n",
    "\n",
    "channel_sec = 0.4\n",
    "\n",
    "for i in range(m):\n",
    "    alice_sifted, bob_sifted, eve_bits = bb84(n, noise_p, p_range)\n",
    "\n",
    "    if not is_secure(channel_sec, alice_sifted, bob_sifted):\n",
    "        pass\n",
    "\n",
    "    eves_guessing_p.append(guessing_p(eve_bits, alice_sifted))\n",
    "\n",
    "    condH_AlEve.append(conditional_entropy(alice_sifted, eve_bits))\n",
    "    condH_BobEve.append(conditional_entropy(bob_sifted, eve_bits))\n",
    "\n",
    "    MI_AlEve.append(mutual_inf(alice_sifted, eve_bits))\n",
    "    MI_BobEve.append(mutual_inf(bob_sifted, eve_bits))"
   ]
  },
  {
   "cell_type": "markdown",
   "id": "2826bcbd",
   "metadata": {},
   "source": [
    "The protocol was run 500 times with 64-bit keys and a quantum noise channel of 0.3 to evaluate its robustness."
   ]
  },
  {
   "cell_type": "markdown",
   "id": "6b006802",
   "metadata": {},
   "source": [
    "## Visualizations"
   ]
  },
  {
   "cell_type": "code",
   "execution_count": 246,
   "id": "4dda6b20",
   "metadata": {},
   "outputs": [],
   "source": [
    "import matplotlib.pyplot as plt"
   ]
  },
  {
   "cell_type": "code",
   "execution_count": 247,
   "id": "01c45737",
   "metadata": {},
   "outputs": [
    {
     "data": {
      "image/png": "[encoded data removed]",
      "text/plain": [
       "<Figure size 640x480 with 1 Axes>"
      ]
     },
     "metadata": {},
     "output_type": "display_data"
    }
   ],
   "source": [
    "plt.hist(eves_guessing_p, color='mediumseagreen')\n",
    "plt.title(\"Eve's guessing probability\")\n",
    "plt.xlabel(\"p\")\n",
    "plt.ylabel(\"frec\")\n",
    " \n",
    "plt.show()"
   ]
  },
  {
   "cell_type": "markdown",
   "id": "6cfa04e5",
   "metadata": {},
   "source": [
    "The histogram help us see that the probability that Eve guesses the final key it's always 0%, wich assure us that the protocol is safe."
   ]
  },
  {
   "cell_type": "code",
   "execution_count": 248,
   "id": "23a8ad5f",
   "metadata": {},
   "outputs": [
    {
     "data": {
      "image/png": "[encoded data removed]",
      "text/plain": [
       "<Figure size 1800x200 with 4 Axes>"
      ]
     },
     "metadata": {},
     "output_type": "display_data"
    }
   ],
   "source": [
    "fig, axs = plt.subplots(1, 4, figsize=(18, 2))\n",
    "\n",
    "axs[0].hist(condH_BobEve, color='lightgreen')\n",
    "axs[0].set_title(\"H(A|E)\")\n",
    "\n",
    "axs[0].set_xlabel('entropy')\n",
    "\n",
    "axs[1].hist(condH_AlEve, color='mediumseagreen')\n",
    "axs[1].set_title(\"H(B|E)\")\n",
    "axs[1].set_xlabel('entropy')\n",
    "axs[2].hist(MI_AlEve, color='seagreen')\n",
    "axs[2].set_title(\"I(A;E)\")\n",
    "axs[2].set_xlabel('mutual information')\n",
    "axs[3].hist(MI_BobEve, color='darkseagreen')\n",
    "axs[3].set_title(\"I(B;E)\")\n",
    "axs[3].set_xlabel('mutual information')\n",
    "\n",
    "for ax in axs.flat:\n",
    "    ax.set(ylabel='frec')"
   ]
  },
  {
   "cell_type": "markdown",
   "id": "1ab4d996",
   "metadata": {},
   "source": [
    "The histograms show that Eve's conditional entropy with respect to Alice and Bob is close to 100%, while her mutual information with both Alice and Bob is close to 0%. This indicates that Eve gains virtually no useful information from either the system or the final key."
   ]
  }
 ],
 "metadata": {
  "kernelspec": {
   "display_name": "quantic-env",
   "language": "python",
   "name": "env"
  },
  "language_info": {
   "codemirror_mode": {
    "name": "ipython",
    "version": 3
   },
   "file_extension": ".py",
   "mimetype": "text/x-python",
   "name": "python",
   "nbconvert_exporter": "python",
   "pygments_lexer": "ipython3",
   "version": "3.12.3"
  }
 },
 "nbformat": 4,
 "nbformat_minor": 5
}
